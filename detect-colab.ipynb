{
  "cells": [
    {
      "cell_type": "code",
      "source": [
        "!git clone https://github.com/corydambach/mmrotate-sandbox/\n",
        "!pip install -q condacolab\n",
        "import condacolab\n",
        "condacolab.install() # expect a kernel restart\n",
        "\n",
        "!mamba env update -n base -f mmrotate-sandbox/env.yml"
      ],
      "metadata": {
        "id": "O7SQzwbozd3i",
        "outputId": "7576d055-be8c-4d11-fe73-22a15cfa109a",
        "colab": {
          "base_uri": "https://localhost:8080/"
        }
      },
      "id": "O7SQzwbozd3i",
      "execution_count": null,
      "outputs": [
        {
          "output_type": "stream",
          "name": "stdout",
          "text": [
            "fatal: destination path 'mmrotate-sandbox' already exists and is not an empty directory.\n",
            "✨🍰✨ Everything looks OK!\n",
            "Channels:\n",
            " - pytorch\n",
            " - nvidia\n",
            " - conda-forge\n",
            " - defaults\n",
            "Platform: linux-64\n",
            "Collecting package metadata (repodata.json): - \b\b\\ \b\b| \b\b/ \b\b- \b\b\\ \b\b| \b\b/ \b\b- \b\b\\ \b\b| \b\b/ \b\b- \b\b\\ \b\b| \b\b/ \b\b- \b\b\\ \b\b| \b\b/ \b\b- \b\b\\ \b\b| \b\b/ \b\b- \b\b\\ \b\b| \b\b/ \b\b- \b\b\\ \b\b| \b\b/ \b\b- \b\b\\ \b\b| \b\b/ \b\b- \b\b\\ \b\b| \b\b/ \b\b- \b\b\\ \b\b| \b\b/ \b\b- \b\b\\ \b\b| \b\b/ \b\b- \b\b\\ \b\b| \b\b/ \b\b- \b\b\\ \b\b| \b\b/ \b\b- \b\b\\ \b\b| \b\b/ \b\b- \b\b\\ \b\b| \b\b/ \b\b- \b\b\\ \b\b| \b\b/ \b\b- \b\b\\ \b\b| \b\b/ \b\b- \b\b\\ \b\b| \b\b/ \b\b- "
          ]
        }
      ]
    },
    {
      "cell_type": "code",
      "execution_count": null,
      "id": "7cdf9766",
      "metadata": {
        "id": "7cdf9766"
      },
      "outputs": [],
      "source": [
        "#os\n",
        "import os\n",
        "\n",
        "#ml\n",
        "import numpy as np\n",
        "import torch\n",
        "import mmcv\n",
        "import cv2\n",
        "from mmdet.apis    import init_detector\n",
        "from mmrotate.apis import inference_detector_by_patches\n",
        "from dataclasses import asdict\n",
        "import json\n",
        "\n",
        "from geo_util import Pnt, Vehicle, VehicleExport, rbbox_to_poly"
      ]
    },
    {
      "cell_type": "code",
      "execution_count": null,
      "id": "8102140c",
      "metadata": {
        "id": "8102140c"
      },
      "outputs": [],
      "source": [
        "\n",
        "def process_results( img, result, out_file=None, **kwargs ):\n",
        "    img = mmcv.imread(img)\n",
        "    img = img.copy()\n",
        "    if isinstance(result, tuple):\n",
        "        bbox_result, segm_result = result\n",
        "        if isinstance( segm_result, tuple ):\n",
        "            segm_result = segm_result[0]\n",
        "    else:\n",
        "        bbox_result, segm_result = result, None\n",
        "    bboxes = np.vstack(bbox_result)\n",
        "    labels = [\n",
        "        np.full( bbox.shape[0], i, dtype=np.int32 )\n",
        "        for i, bbox in enumerate(bbox_result)\n",
        "    ]\n",
        "    labels = np.concatenate( labels )\n",
        "    #remove everything that isn't a small vehicle\n",
        "    # labels = labels[mask]\n",
        "    # bboxes = bboxes[mask]\n",
        "    print( f\"Detected {len( bboxes )} vehicles.\" )\n",
        "    reshaped = labels.reshape( -1, 1 )\n",
        "    concat = np.concatenate( (bboxes, reshaped), axis=1 )\n",
        "    np.save( out_file, concat )\n",
        "    a_entries = [Vehicle( r[0], r[1], r[2], r[3], r[4], r ) for r in concat]\n",
        "    vas = [VehicleExport( Pnt( a.x, a.y ), a.width, a.height, a.theta, rbbox_to_poly( a.arr ).tolist(), str(i) ) for i, a in enumerate(a_entries)]\n",
        "    with open( f\"{out_file}.json\", \"w\" ) as f:\n",
        "        json.dump( [asdict(va) for va in vas], f )\n",
        "    return"
      ]
    },
    {
      "cell_type": "code",
      "execution_count": null,
      "id": "c1177c7a",
      "metadata": {
        "id": "c1177c7a"
      },
      "outputs": [],
      "source": [
        "class Args:\n",
        "    def __init__( self, batch_size: int, patch_size: int, patch_step: int ):\n",
        "        self.img = \"./PA-SM-2020-06-12/satellite-sm.png\"\n",
        "        self.config = \"mmrotate/configs/redet/redet_re50_refpn_1x_dota_ms_rr_le90.py\"\n",
        "        self.checkpoint = \"model/redet_re50_fpn_1x_dota_ms_rr_le90-fc9217b5.pth\"\n",
        "        self.score_thr = 0.0025\n",
        "        self.merge_iou_thr = 0.85\n",
        "        self.img_ratios = [1.0]\n",
        "        self.out_file = \"PA-SM-2020-6-12-SM\"\n",
        "        self.batch_size = batch_size\n",
        "        self.patch_sizes = [patch_size]\n",
        "        self.patch_steps = [patch_step]\n",
        "        self.device = 'cuda:0'\n",
        "        self.palette = 'dota'\n",
        "\n",
        "torch.cuda.set_per_process_memory_fraction( 0.85 )"
      ]
    },
    {
      "cell_type": "code",
      "execution_count": null,
      "id": "2904f812",
      "metadata": {
        "id": "2904f812"
      },
      "outputs": [],
      "source": [
        "### setup args here ###\n",
        "args = Args( batch_size=24, patch_size=1024, patch_step=768 )"
      ]
    },
    {
      "cell_type": "code",
      "execution_count": null,
      "id": "22232dff",
      "metadata": {
        "id": "22232dff"
      },
      "outputs": [],
      "source": [
        "model = init_detector( args.config, args.checkpoint, device=args.device )"
      ]
    },
    {
      "cell_type": "code",
      "execution_count": null,
      "id": "a2b46976",
      "metadata": {
        "id": "a2b46976"
      },
      "outputs": [],
      "source": [
        "img = mmcv.imread( args.img )"
      ]
    },
    {
      "cell_type": "code",
      "execution_count": null,
      "id": "3c2b63cc",
      "metadata": {
        "id": "3c2b63cc"
      },
      "outputs": [],
      "source": [
        "result = inference_detector_by_patches( model,\n",
        "                                        img,\n",
        "                                        args.patch_sizes,\n",
        "                                        args.patch_steps,\n",
        "                                        args.img_ratios,\n",
        "                                        args.merge_iou_thr,\n",
        "                                        args.batch_size )"
      ]
    },
    {
      "cell_type": "code",
      "execution_count": null,
      "id": "510dee3f",
      "metadata": {
        "id": "510dee3f"
      },
      "outputs": [],
      "source": [
        "process_results( args.img, result, out_file=args.out_file, score_thr=args.score_thr )"
      ]
    }
  ],
  "metadata": {
    "kernelspec": {
      "display_name": "openmmlab-clean",
      "language": "python",
      "name": "python3"
    },
    "language_info": {
      "codemirror_mode": {
        "name": "ipython",
        "version": 3
      },
      "file_extension": ".py",
      "mimetype": "text/x-python",
      "name": "python",
      "nbconvert_exporter": "python",
      "pygments_lexer": "ipython3",
      "version": "3.11.13"
    },
    "colab": {
      "provenance": []
    }
  },
  "nbformat": 4,
  "nbformat_minor": 5
}