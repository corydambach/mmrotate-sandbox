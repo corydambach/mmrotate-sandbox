{
 "cells": [
  {
   "cell_type": "code",
   "execution_count": 1,
   "id": "7cdf9766",
   "metadata": {},
   "outputs": [
    {
     "name": "stderr",
     "output_type": "stream",
     "text": [
      "/home/cory/miniconda3/envs/openmmlab-clean/lib/python3.11/site-packages/mmcv/__init__.py:20: UserWarning: On January 1, 2023, MMCV will release v2.0.0, in which it will remove components related to the training process and add a data transformation module. In addition, it will rename the package names mmcv to mmcv-lite and mmcv-full to mmcv. See https://github.com/open-mmlab/mmcv/blob/master/docs/en/compatibility.md for more details.\n",
      "  warnings.warn(\n"
     ]
    }
   ],
   "source": [
    "#os\n",
    "import os\n",
    "\n",
    "#ml\n",
    "import numpy as np\n",
    "import torch\n",
    "import mmcv\n",
    "import cv2\n",
    "from mmdet.apis    import init_detector\n",
    "from mmrotate.apis import inference_detector_by_patches\n",
    "from dataclasses import asdict\n",
    "import json\n",
    "\n",
    "from geo_util import Pnt, Vehicle, VehicleExport, rbbox_to_poly"
   ]
  },
  {
   "cell_type": "code",
   "execution_count": 2,
   "id": "8102140c",
   "metadata": {},
   "outputs": [],
   "source": [
    "\n",
    "def process_results( img, result, out_file=None, **kwargs ):\n",
    "    img = mmcv.imread(img)\n",
    "    img = img.copy()\n",
    "    if isinstance(result, tuple):\n",
    "        bbox_result, segm_result = result\n",
    "        if isinstance( segm_result, tuple ):\n",
    "            segm_result = segm_result[0]\n",
    "    else:\n",
    "        bbox_result, segm_result = result, None\n",
    "    bboxes = np.vstack(bbox_result)\n",
    "    labels = [\n",
    "        np.full( bbox.shape[0], i, dtype=np.int32 )\n",
    "        for i, bbox in enumerate(bbox_result)\n",
    "    ]\n",
    "    labels = np.concatenate( labels )\n",
    "    #remove everything that isn't a small vehicle    \n",
    "    # labels = labels[mask]\n",
    "    # bboxes = bboxes[mask]\n",
    "    print( f\"Detected {len( bboxes )} vehicles.\" )\n",
    "    reshaped = labels.reshape( -1, 1 )\n",
    "    concat = np.concatenate( (bboxes, reshaped), axis=1 )\n",
    "    np.save( out_file, concat )\n",
    "    a_entries = [Vehicle( r[0], r[1], r[2], r[3], r[4], r ) for r in concat]\n",
    "    vas = [VehicleExport( Pnt( a.x, a.y ), a.width, a.height, a.theta, rbbox_to_poly( a.arr ).tolist(), str(i) ) for i, a in enumerate(a_entries)]    \n",
    "    with open( f\"{out_file}.json\", \"w\" ) as f:\n",
    "        json.dump( [asdict(va) for va in vas], f )\n",
    "    return"
   ]
  },
  {
   "cell_type": "code",
   "execution_count": 3,
   "id": "c1177c7a",
   "metadata": {},
   "outputs": [],
   "source": [
    "class Args:\n",
    "    def __init__( self, batch_size: int, patch_size: int, patch_step: int ):\n",
    "        self.img = \"./PA-SM-2020-06-12/satellite-sm.png\"\n",
    "        self.config = \"mmrotate/configs/redet/redet_re50_refpn_1x_dota_ms_rr_le90.py\"\n",
    "        self.checkpoint = \"model/redet_re50_fpn_1x_dota_ms_rr_le90-fc9217b5.pth\"\n",
    "        self.score_thr = 0.0025\n",
    "        self.merge_iou_thr = 0.85\n",
    "        self.img_ratios = [1.0]\n",
    "        self.out_file = \"PA-SM-2020-6-12-SM\"\n",
    "        self.batch_size = batch_size\n",
    "        self.patch_sizes = [patch_size]\n",
    "        self.patch_steps = [patch_step]\n",
    "        self.device = 'cuda:0'\n",
    "        self.palette = 'dota'\n",
    "\n",
    "torch.cuda.set_per_process_memory_fraction( 0.85 )"
   ]
  },
  {
   "cell_type": "code",
   "execution_count": 4,
   "id": "2904f812",
   "metadata": {},
   "outputs": [],
   "source": [
    "### setup args here ###\n",
    "args = Args( batch_size=24, patch_size=1024, patch_step=768 )"
   ]
  },
  {
   "cell_type": "code",
   "execution_count": 5,
   "id": "22232dff",
   "metadata": {},
   "outputs": [
    {
     "name": "stderr",
     "output_type": "stream",
     "text": [
      "/home/cory/proj/mmrotate-clean/mmrotate/mmrotate/models/backbones/re_resnet.py:481: UserWarning: DeprecationWarning: pretrained is deprecated, please use \"init_cfg\" instead\n",
      "  warnings.warn('DeprecationWarning: pretrained is deprecated, '\n",
      "/home/cory/miniconda3/envs/openmmlab-clean/lib/python3.11/site-packages/e2cnn/nn/modules/r2_conv/basisexpansion_singleblock.py:80: UserWarning: indexing with dtype torch.uint8 is now deprecated, please use a dtype torch.bool instead. (Triggered internally at /opt/conda/conda-bld/pytorch_1682343995622/work/aten/src/ATen/native/IndexingUtils.h:27.)\n",
      "  full_mask[mask] = norms.to(torch.uint8)\n",
      "/home/cory/miniconda3/envs/openmmlab-clean/lib/python3.11/site-packages/mmdet/models/dense_heads/anchor_head.py:116: UserWarning: DeprecationWarning: `num_anchors` is deprecated, for consistency or also use `num_base_priors` instead\n",
      "  warnings.warn('DeprecationWarning: `num_anchors` is deprecated, '\n"
     ]
    },
    {
     "name": "stdout",
     "output_type": "stream",
     "text": [
      "load checkpoint from local path: model/redet_re50_fpn_1x_dota_ms_rr_le90-fc9217b5.pth\n",
      "The model and loaded state dict do not match exactly\n",
      "\n",
      "missing keys in source state_dict: backbone.conv1.filter, backbone.layer2.0.conv1.filter, backbone.layer2.0.conv2.filter, backbone.layer2.0.conv3.filter, backbone.layer2.0.downsample.0.filter, backbone.layer2.1.conv1.filter, backbone.layer2.1.conv2.filter, backbone.layer2.1.conv3.filter, backbone.layer2.2.conv1.filter, backbone.layer2.2.conv2.filter, backbone.layer2.2.conv3.filter, backbone.layer2.3.conv1.filter, backbone.layer2.3.conv2.filter, backbone.layer2.3.conv3.filter, backbone.layer3.0.conv1.filter, backbone.layer3.0.conv2.filter, backbone.layer3.0.conv3.filter, backbone.layer3.0.downsample.0.filter, backbone.layer3.1.conv1.filter, backbone.layer3.1.conv2.filter, backbone.layer3.1.conv3.filter, backbone.layer3.2.conv1.filter, backbone.layer3.2.conv2.filter, backbone.layer3.2.conv3.filter, backbone.layer3.3.conv1.filter, backbone.layer3.3.conv2.filter, backbone.layer3.3.conv3.filter, backbone.layer3.4.conv1.filter, backbone.layer3.4.conv2.filter, backbone.layer3.4.conv3.filter, backbone.layer3.5.conv1.filter, backbone.layer3.5.conv2.filter, backbone.layer3.5.conv3.filter, backbone.layer4.0.conv1.filter, backbone.layer4.0.conv2.filter, backbone.layer4.0.conv3.filter, backbone.layer4.0.downsample.0.filter, backbone.layer4.1.conv1.filter, backbone.layer4.1.conv2.filter, backbone.layer4.1.conv3.filter, backbone.layer4.2.conv1.filter, backbone.layer4.2.conv2.filter, backbone.layer4.2.conv3.filter, neck.lateral_convs.0.conv.expanded_bias, neck.lateral_convs.0.conv.filter, neck.lateral_convs.1.conv.expanded_bias, neck.lateral_convs.1.conv.filter, neck.lateral_convs.2.conv.expanded_bias, neck.lateral_convs.2.conv.filter, neck.lateral_convs.3.conv.expanded_bias, neck.lateral_convs.3.conv.filter, neck.fpn_convs.0.conv.expanded_bias, neck.fpn_convs.0.conv.filter, neck.fpn_convs.1.conv.expanded_bias, neck.fpn_convs.1.conv.filter, neck.fpn_convs.2.conv.expanded_bias, neck.fpn_convs.2.conv.filter, neck.fpn_convs.3.conv.expanded_bias, neck.fpn_convs.3.conv.filter\n",
      "\n"
     ]
    }
   ],
   "source": [
    "model = init_detector( args.config, args.checkpoint, device=args.device )"
   ]
  },
  {
   "cell_type": "code",
   "execution_count": 6,
   "id": "a2b46976",
   "metadata": {},
   "outputs": [
    {
     "ename": "FileNotFoundError",
     "evalue": "[Errno 2] No such file or directory: './PA-SM-2020-06-12/satellite-sm.png'",
     "output_type": "error",
     "traceback": [
      "\u001b[31m---------------------------------------------------------------------------\u001b[39m",
      "\u001b[31mFileNotFoundError\u001b[39m                         Traceback (most recent call last)",
      "\u001b[36mCell\u001b[39m\u001b[36m \u001b[39m\u001b[32mIn[6]\u001b[39m\u001b[32m, line 1\u001b[39m\n\u001b[32m----> \u001b[39m\u001b[32m1\u001b[39m img = \u001b[43mmmcv\u001b[49m\u001b[43m.\u001b[49m\u001b[43mimread\u001b[49m\u001b[43m(\u001b[49m\u001b[43m \u001b[49m\u001b[43margs\u001b[49m\u001b[43m.\u001b[49m\u001b[43mimg\u001b[49m\u001b[43m \u001b[49m\u001b[43m)\u001b[49m\n",
      "\u001b[36mFile \u001b[39m\u001b[32m~/miniconda3/envs/openmmlab-clean/lib/python3.11/site-packages/mmcv/image/io.py:206\u001b[39m, in \u001b[36mimread\u001b[39m\u001b[34m(img_or_path, flag, channel_order, backend, file_client_args)\u001b[39m\n\u001b[32m    204\u001b[39m \u001b[38;5;28;01melif\u001b[39;00m is_str(img_or_path):\n\u001b[32m    205\u001b[39m     file_client = FileClient.infer_client(file_client_args, img_or_path)\n\u001b[32m--> \u001b[39m\u001b[32m206\u001b[39m     img_bytes = \u001b[43mfile_client\u001b[49m\u001b[43m.\u001b[49m\u001b[43mget\u001b[49m\u001b[43m(\u001b[49m\u001b[43mimg_or_path\u001b[49m\u001b[43m)\u001b[49m\n\u001b[32m    207\u001b[39m     \u001b[38;5;28;01mreturn\u001b[39;00m imfrombytes(img_bytes, flag, channel_order, backend)\n\u001b[32m    208\u001b[39m \u001b[38;5;28;01melse\u001b[39;00m:\n",
      "\u001b[36mFile \u001b[39m\u001b[32m~/miniconda3/envs/openmmlab-clean/lib/python3.11/site-packages/mmcv/fileio/file_client.py:1017\u001b[39m, in \u001b[36mFileClient.get\u001b[39m\u001b[34m(self, filepath)\u001b[39m\n\u001b[32m   1001\u001b[39m \u001b[38;5;28;01mdef\u001b[39;00m\u001b[38;5;250m \u001b[39m\u001b[34mget\u001b[39m(\u001b[38;5;28mself\u001b[39m, filepath: Union[\u001b[38;5;28mstr\u001b[39m, Path]) -> Union[\u001b[38;5;28mbytes\u001b[39m, \u001b[38;5;28mmemoryview\u001b[39m]:\n\u001b[32m   1002\u001b[39m \u001b[38;5;250m    \u001b[39m\u001b[33;03m\"\"\"Read data from a given ``filepath`` with 'rb' mode.\u001b[39;00m\n\u001b[32m   1003\u001b[39m \n\u001b[32m   1004\u001b[39m \u001b[33;03m    Note:\u001b[39;00m\n\u001b[32m   (...)\u001b[39m\u001b[32m   1015\u001b[39m \u001b[33;03m        bytes object.\u001b[39;00m\n\u001b[32m   1016\u001b[39m \u001b[33;03m    \"\"\"\u001b[39;00m\n\u001b[32m-> \u001b[39m\u001b[32m1017\u001b[39m     \u001b[38;5;28;01mreturn\u001b[39;00m \u001b[38;5;28;43mself\u001b[39;49m\u001b[43m.\u001b[49m\u001b[43mclient\u001b[49m\u001b[43m.\u001b[49m\u001b[43mget\u001b[49m\u001b[43m(\u001b[49m\u001b[43mfilepath\u001b[49m\u001b[43m)\u001b[49m\n",
      "\u001b[36mFile \u001b[39m\u001b[32m~/miniconda3/envs/openmmlab-clean/lib/python3.11/site-packages/mmcv/fileio/file_client.py:538\u001b[39m, in \u001b[36mHardDiskBackend.get\u001b[39m\u001b[34m(self, filepath)\u001b[39m\n\u001b[32m    529\u001b[39m \u001b[38;5;28;01mdef\u001b[39;00m\u001b[38;5;250m \u001b[39m\u001b[34mget\u001b[39m(\u001b[38;5;28mself\u001b[39m, filepath: Union[\u001b[38;5;28mstr\u001b[39m, Path]) -> \u001b[38;5;28mbytes\u001b[39m:\n\u001b[32m    530\u001b[39m \u001b[38;5;250m    \u001b[39m\u001b[33;03m\"\"\"Read data from a given ``filepath`` with 'rb' mode.\u001b[39;00m\n\u001b[32m    531\u001b[39m \n\u001b[32m    532\u001b[39m \u001b[33;03m    Args:\u001b[39;00m\n\u001b[32m   (...)\u001b[39m\u001b[32m    536\u001b[39m \u001b[33;03m        bytes: Expected bytes object.\u001b[39;00m\n\u001b[32m    537\u001b[39m \u001b[33;03m    \"\"\"\u001b[39;00m\n\u001b[32m--> \u001b[39m\u001b[32m538\u001b[39m     \u001b[38;5;28;01mwith\u001b[39;00m \u001b[38;5;28;43mopen\u001b[39;49m\u001b[43m(\u001b[49m\u001b[43mfilepath\u001b[49m\u001b[43m,\u001b[49m\u001b[43m \u001b[49m\u001b[33;43m'\u001b[39;49m\u001b[33;43mrb\u001b[39;49m\u001b[33;43m'\u001b[39;49m\u001b[43m)\u001b[49m \u001b[38;5;28;01mas\u001b[39;00m f:\n\u001b[32m    539\u001b[39m         value_buf = f.read()\n\u001b[32m    540\u001b[39m     \u001b[38;5;28;01mreturn\u001b[39;00m value_buf\n",
      "\u001b[31mFileNotFoundError\u001b[39m: [Errno 2] No such file or directory: './PA-SM-2020-06-12/satellite-sm.png'"
     ]
    }
   ],
   "source": [
    "img = mmcv.imread( args.img )"
   ]
  },
  {
   "cell_type": "code",
   "execution_count": null,
   "id": "3c2b63cc",
   "metadata": {},
   "outputs": [
    {
     "name": "stderr",
     "output_type": "stream",
     "text": [
      "/home/cory/miniconda3/envs/openmmlab-clean/lib/python3.11/site-packages/mmdet/models/dense_heads/anchor_head.py:123: UserWarning: DeprecationWarning: anchor_generator is deprecated, please use \"prior_generator\" instead\n",
      "  warnings.warn('DeprecationWarning: anchor_generator is deprecated, '\n"
     ]
    },
    {
     "ename": "RuntimeError",
     "evalue": "indices should be either on cpu or on the same device as the indexed tensor (cpu)",
     "output_type": "error",
     "traceback": [
      "\u001b[31m---------------------------------------------------------------------------\u001b[39m",
      "\u001b[31mRuntimeError\u001b[39m                              Traceback (most recent call last)",
      "\u001b[36mCell\u001b[39m\u001b[36m \u001b[39m\u001b[32mIn[7]\u001b[39m\u001b[32m, line 1\u001b[39m\n\u001b[32m----> \u001b[39m\u001b[32m1\u001b[39m result = \u001b[43minference_detector_by_patches\u001b[49m\u001b[43m(\u001b[49m\u001b[43m \u001b[49m\u001b[43mmodel\u001b[49m\u001b[43m,\u001b[49m\n\u001b[32m      2\u001b[39m \u001b[43m                                        \u001b[49m\u001b[43mimg\u001b[49m\u001b[43m,\u001b[49m\n\u001b[32m      3\u001b[39m \u001b[43m                                        \u001b[49m\u001b[43margs\u001b[49m\u001b[43m.\u001b[49m\u001b[43mpatch_sizes\u001b[49m\u001b[43m,\u001b[49m\n\u001b[32m      4\u001b[39m \u001b[43m                                        \u001b[49m\u001b[43margs\u001b[49m\u001b[43m.\u001b[49m\u001b[43mpatch_steps\u001b[49m\u001b[43m,\u001b[49m\n\u001b[32m      5\u001b[39m \u001b[43m                                        \u001b[49m\u001b[43margs\u001b[49m\u001b[43m.\u001b[49m\u001b[43mimg_ratios\u001b[49m\u001b[43m,\u001b[49m\n\u001b[32m      6\u001b[39m \u001b[43m                                        \u001b[49m\u001b[43margs\u001b[49m\u001b[43m.\u001b[49m\u001b[43mmerge_iou_thr\u001b[49m\u001b[43m,\u001b[49m\n\u001b[32m      7\u001b[39m \u001b[43m                                        \u001b[49m\u001b[43margs\u001b[49m\u001b[43m.\u001b[49m\u001b[43mbatch_size\u001b[49m\u001b[43m \u001b[49m\u001b[43m)\u001b[49m\n",
      "\u001b[36mFile \u001b[39m\u001b[32m~/miniconda3/envs/openmmlab-clean/lib/python3.11/site-packages/mmrotate/apis/inference.py:82\u001b[39m, in \u001b[36minference_detector_by_patches\u001b[39m\u001b[34m(model, img, sizes, steps, ratios, merge_iou_thr, bs)\u001b[39m\n\u001b[32m     80\u001b[39m \u001b[38;5;66;03m# forward the model\u001b[39;00m\n\u001b[32m     81\u001b[39m \u001b[38;5;28;01mwith\u001b[39;00m torch.no_grad():\n\u001b[32m---> \u001b[39m\u001b[32m82\u001b[39m     results.extend(\u001b[43mmodel\u001b[49m\u001b[43m(\u001b[49m\u001b[43mreturn_loss\u001b[49m\u001b[43m=\u001b[49m\u001b[38;5;28;43;01mFalse\u001b[39;49;00m\u001b[43m,\u001b[49m\u001b[43m \u001b[49m\u001b[43mrescale\u001b[49m\u001b[43m=\u001b[49m\u001b[38;5;28;43;01mTrue\u001b[39;49;00m\u001b[43m,\u001b[49m\u001b[43m \u001b[49m\u001b[43m*\u001b[49m\u001b[43m*\u001b[49m\u001b[43mdata\u001b[49m\u001b[43m)\u001b[49m)\n\u001b[32m     84\u001b[39m \u001b[38;5;28;01mif\u001b[39;00m end >= \u001b[38;5;28mlen\u001b[39m(windows):\n\u001b[32m     85\u001b[39m     \u001b[38;5;28;01mbreak\u001b[39;00m\n",
      "\u001b[36mFile \u001b[39m\u001b[32m~/miniconda3/envs/openmmlab-clean/lib/python3.11/site-packages/torch/nn/modules/module.py:1501\u001b[39m, in \u001b[36mModule._call_impl\u001b[39m\u001b[34m(self, *args, **kwargs)\u001b[39m\n\u001b[32m   1496\u001b[39m \u001b[38;5;66;03m# If we don't have any hooks, we want to skip the rest of the logic in\u001b[39;00m\n\u001b[32m   1497\u001b[39m \u001b[38;5;66;03m# this function, and just call forward.\u001b[39;00m\n\u001b[32m   1498\u001b[39m \u001b[38;5;28;01mif\u001b[39;00m \u001b[38;5;129;01mnot\u001b[39;00m (\u001b[38;5;28mself\u001b[39m._backward_hooks \u001b[38;5;129;01mor\u001b[39;00m \u001b[38;5;28mself\u001b[39m._backward_pre_hooks \u001b[38;5;129;01mor\u001b[39;00m \u001b[38;5;28mself\u001b[39m._forward_hooks \u001b[38;5;129;01mor\u001b[39;00m \u001b[38;5;28mself\u001b[39m._forward_pre_hooks\n\u001b[32m   1499\u001b[39m         \u001b[38;5;129;01mor\u001b[39;00m _global_backward_pre_hooks \u001b[38;5;129;01mor\u001b[39;00m _global_backward_hooks\n\u001b[32m   1500\u001b[39m         \u001b[38;5;129;01mor\u001b[39;00m _global_forward_hooks \u001b[38;5;129;01mor\u001b[39;00m _global_forward_pre_hooks):\n\u001b[32m-> \u001b[39m\u001b[32m1501\u001b[39m     \u001b[38;5;28;01mreturn\u001b[39;00m \u001b[43mforward_call\u001b[49m\u001b[43m(\u001b[49m\u001b[43m*\u001b[49m\u001b[43margs\u001b[49m\u001b[43m,\u001b[49m\u001b[43m \u001b[49m\u001b[43m*\u001b[49m\u001b[43m*\u001b[49m\u001b[43mkwargs\u001b[49m\u001b[43m)\u001b[49m\n\u001b[32m   1502\u001b[39m \u001b[38;5;66;03m# Do not call functions when jit is used\u001b[39;00m\n\u001b[32m   1503\u001b[39m full_backward_hooks, non_full_backward_hooks = [], []\n",
      "\u001b[36mFile \u001b[39m\u001b[32m~/miniconda3/envs/openmmlab-clean/lib/python3.11/site-packages/mmcv/runner/fp16_utils.py:119\u001b[39m, in \u001b[36mauto_fp16.<locals>.auto_fp16_wrapper.<locals>.new_func\u001b[39m\u001b[34m(*args, **kwargs)\u001b[39m\n\u001b[32m    116\u001b[39m     \u001b[38;5;28;01mraise\u001b[39;00m \u001b[38;5;167;01mTypeError\u001b[39;00m(\u001b[33m'\u001b[39m\u001b[33m@auto_fp16 can only be used to decorate the \u001b[39m\u001b[33m'\u001b[39m\n\u001b[32m    117\u001b[39m                     \u001b[33mf\u001b[39m\u001b[33m'\u001b[39m\u001b[33mmethod of those classes \u001b[39m\u001b[38;5;132;01m{\u001b[39;00msupported_types\u001b[38;5;132;01m}\u001b[39;00m\u001b[33m'\u001b[39m)\n\u001b[32m    118\u001b[39m \u001b[38;5;28;01mif\u001b[39;00m \u001b[38;5;129;01mnot\u001b[39;00m (\u001b[38;5;28mhasattr\u001b[39m(args[\u001b[32m0\u001b[39m], \u001b[33m'\u001b[39m\u001b[33mfp16_enabled\u001b[39m\u001b[33m'\u001b[39m) \u001b[38;5;129;01mand\u001b[39;00m args[\u001b[32m0\u001b[39m].fp16_enabled):\n\u001b[32m--> \u001b[39m\u001b[32m119\u001b[39m     \u001b[38;5;28;01mreturn\u001b[39;00m \u001b[43mold_func\u001b[49m\u001b[43m(\u001b[49m\u001b[43m*\u001b[49m\u001b[43margs\u001b[49m\u001b[43m,\u001b[49m\u001b[43m \u001b[49m\u001b[43m*\u001b[49m\u001b[43m*\u001b[49m\u001b[43mkwargs\u001b[49m\u001b[43m)\u001b[49m\n\u001b[32m    121\u001b[39m \u001b[38;5;66;03m# get the arg spec of the decorated method\u001b[39;00m\n\u001b[32m    122\u001b[39m args_info = getfullargspec(old_func)\n",
      "\u001b[36mFile \u001b[39m\u001b[32m~/miniconda3/envs/openmmlab-clean/lib/python3.11/site-packages/mmdet/models/detectors/base.py:174\u001b[39m, in \u001b[36mBaseDetector.forward\u001b[39m\u001b[34m(self, img, img_metas, return_loss, **kwargs)\u001b[39m\n\u001b[32m    172\u001b[39m     \u001b[38;5;28;01mreturn\u001b[39;00m \u001b[38;5;28mself\u001b[39m.forward_train(img, img_metas, **kwargs)\n\u001b[32m    173\u001b[39m \u001b[38;5;28;01melse\u001b[39;00m:\n\u001b[32m--> \u001b[39m\u001b[32m174\u001b[39m     \u001b[38;5;28;01mreturn\u001b[39;00m \u001b[38;5;28;43mself\u001b[39;49m\u001b[43m.\u001b[49m\u001b[43mforward_test\u001b[49m\u001b[43m(\u001b[49m\u001b[43mimg\u001b[49m\u001b[43m,\u001b[49m\u001b[43m \u001b[49m\u001b[43mimg_metas\u001b[49m\u001b[43m,\u001b[49m\u001b[43m \u001b[49m\u001b[43m*\u001b[49m\u001b[43m*\u001b[49m\u001b[43mkwargs\u001b[49m\u001b[43m)\u001b[49m\n",
      "\u001b[36mFile \u001b[39m\u001b[32m~/miniconda3/envs/openmmlab-clean/lib/python3.11/site-packages/mmdet/models/detectors/base.py:147\u001b[39m, in \u001b[36mBaseDetector.forward_test\u001b[39m\u001b[34m(self, imgs, img_metas, **kwargs)\u001b[39m\n\u001b[32m    145\u001b[39m     \u001b[38;5;28;01mif\u001b[39;00m \u001b[33m'\u001b[39m\u001b[33mproposals\u001b[39m\u001b[33m'\u001b[39m \u001b[38;5;129;01min\u001b[39;00m kwargs:\n\u001b[32m    146\u001b[39m         kwargs[\u001b[33m'\u001b[39m\u001b[33mproposals\u001b[39m\u001b[33m'\u001b[39m] = kwargs[\u001b[33m'\u001b[39m\u001b[33mproposals\u001b[39m\u001b[33m'\u001b[39m][\u001b[32m0\u001b[39m]\n\u001b[32m--> \u001b[39m\u001b[32m147\u001b[39m     \u001b[38;5;28;01mreturn\u001b[39;00m \u001b[38;5;28;43mself\u001b[39;49m\u001b[43m.\u001b[49m\u001b[43msimple_test\u001b[49m\u001b[43m(\u001b[49m\u001b[43mimgs\u001b[49m\u001b[43m[\u001b[49m\u001b[32;43m0\u001b[39;49m\u001b[43m]\u001b[49m\u001b[43m,\u001b[49m\u001b[43m \u001b[49m\u001b[43mimg_metas\u001b[49m\u001b[43m[\u001b[49m\u001b[32;43m0\u001b[39;49m\u001b[43m]\u001b[49m\u001b[43m,\u001b[49m\u001b[43m \u001b[49m\u001b[43m*\u001b[49m\u001b[43m*\u001b[49m\u001b[43mkwargs\u001b[49m\u001b[43m)\u001b[49m\n\u001b[32m    148\u001b[39m \u001b[38;5;28;01melse\u001b[39;00m:\n\u001b[32m    149\u001b[39m     \u001b[38;5;28;01massert\u001b[39;00m imgs[\u001b[32m0\u001b[39m].size(\u001b[32m0\u001b[39m) == \u001b[32m1\u001b[39m, \u001b[33m'\u001b[39m\u001b[33maug test does not support \u001b[39m\u001b[33m'\u001b[39m \\\n\u001b[32m    150\u001b[39m                                  \u001b[33m'\u001b[39m\u001b[33minference with batch size \u001b[39m\u001b[33m'\u001b[39m \\\n\u001b[32m    151\u001b[39m                                  \u001b[33mf\u001b[39m\u001b[33m'\u001b[39m\u001b[38;5;132;01m{\u001b[39;00mimgs[\u001b[32m0\u001b[39m].size(\u001b[32m0\u001b[39m)\u001b[38;5;132;01m}\u001b[39;00m\u001b[33m'\u001b[39m\n",
      "\u001b[36mFile \u001b[39m\u001b[32m~/miniconda3/envs/openmmlab-clean/lib/python3.11/site-packages/mmrotate/models/detectors/two_stage.py:183\u001b[39m, in \u001b[36mRotatedTwoStageDetector.simple_test\u001b[39m\u001b[34m(self, img, img_metas, proposals, rescale)\u001b[39m\n\u001b[32m    180\u001b[39m \u001b[38;5;28;01melse\u001b[39;00m:\n\u001b[32m    181\u001b[39m     proposal_list = proposals\n\u001b[32m--> \u001b[39m\u001b[32m183\u001b[39m \u001b[38;5;28;01mreturn\u001b[39;00m \u001b[38;5;28;43mself\u001b[39;49m\u001b[43m.\u001b[49m\u001b[43mroi_head\u001b[49m\u001b[43m.\u001b[49m\u001b[43msimple_test\u001b[49m\u001b[43m(\u001b[49m\n\u001b[32m    184\u001b[39m \u001b[43m    \u001b[49m\u001b[43mx\u001b[49m\u001b[43m,\u001b[49m\u001b[43m \u001b[49m\u001b[43mproposal_list\u001b[49m\u001b[43m,\u001b[49m\u001b[43m \u001b[49m\u001b[43mimg_metas\u001b[49m\u001b[43m,\u001b[49m\u001b[43m \u001b[49m\u001b[43mrescale\u001b[49m\u001b[43m=\u001b[49m\u001b[43mrescale\u001b[49m\u001b[43m)\u001b[49m\n",
      "\u001b[36mFile \u001b[39m\u001b[32m~/miniconda3/envs/openmmlab-clean/lib/python3.11/site-packages/mmrotate/models/roi_heads/roi_trans_roi_head.py:333\u001b[39m, in \u001b[36mRoITransRoIHead.simple_test\u001b[39m\u001b[34m(self, x, proposal_list, img_metas, rescale)\u001b[39m\n\u001b[32m    331\u001b[39m det_labels = []\n\u001b[32m    332\u001b[39m \u001b[38;5;28;01mfor\u001b[39;00m i \u001b[38;5;129;01min\u001b[39;00m \u001b[38;5;28mrange\u001b[39m(num_imgs):\n\u001b[32m--> \u001b[39m\u001b[32m333\u001b[39m     det_bbox, det_label = \u001b[38;5;28;43mself\u001b[39;49m\u001b[43m.\u001b[49m\u001b[43mbbox_head\u001b[49m\u001b[43m[\u001b[49m\u001b[43m-\u001b[49m\u001b[32;43m1\u001b[39;49m\u001b[43m]\u001b[49m\u001b[43m.\u001b[49m\u001b[43mget_bboxes\u001b[49m\u001b[43m(\u001b[49m\n\u001b[32m    334\u001b[39m \u001b[43m        \u001b[49m\u001b[43mrois\u001b[49m\u001b[43m[\u001b[49m\u001b[43mi\u001b[49m\u001b[43m]\u001b[49m\u001b[43m,\u001b[49m\n\u001b[32m    335\u001b[39m \u001b[43m        \u001b[49m\u001b[43mcls_score\u001b[49m\u001b[43m[\u001b[49m\u001b[43mi\u001b[49m\u001b[43m]\u001b[49m\u001b[43m,\u001b[49m\n\u001b[32m    336\u001b[39m \u001b[43m        \u001b[49m\u001b[43mbbox_pred\u001b[49m\u001b[43m[\u001b[49m\u001b[43mi\u001b[49m\u001b[43m]\u001b[49m\u001b[43m,\u001b[49m\n\u001b[32m    337\u001b[39m \u001b[43m        \u001b[49m\u001b[43mimg_shapes\u001b[49m\u001b[43m[\u001b[49m\u001b[43mi\u001b[49m\u001b[43m]\u001b[49m\u001b[43m,\u001b[49m\n\u001b[32m    338\u001b[39m \u001b[43m        \u001b[49m\u001b[43mscale_factors\u001b[49m\u001b[43m[\u001b[49m\u001b[43mi\u001b[49m\u001b[43m]\u001b[49m\u001b[43m,\u001b[49m\n\u001b[32m    339\u001b[39m \u001b[43m        \u001b[49m\u001b[43mrescale\u001b[49m\u001b[43m=\u001b[49m\u001b[43mrescale\u001b[49m\u001b[43m,\u001b[49m\n\u001b[32m    340\u001b[39m \u001b[43m        \u001b[49m\u001b[43mcfg\u001b[49m\u001b[43m=\u001b[49m\u001b[43mrcnn_test_cfg\u001b[49m\u001b[43m)\u001b[49m\n\u001b[32m    341\u001b[39m     det_bboxes.append(det_bbox)\n\u001b[32m    342\u001b[39m     det_labels.append(det_label)\n",
      "\u001b[36mFile \u001b[39m\u001b[32m~/miniconda3/envs/openmmlab-clean/lib/python3.11/site-packages/mmcv/runner/fp16_utils.py:208\u001b[39m, in \u001b[36mforce_fp32.<locals>.force_fp32_wrapper.<locals>.new_func\u001b[39m\u001b[34m(*args, **kwargs)\u001b[39m\n\u001b[32m    205\u001b[39m     \u001b[38;5;28;01mraise\u001b[39;00m \u001b[38;5;167;01mTypeError\u001b[39;00m(\u001b[33m'\u001b[39m\u001b[33m@force_fp32 can only be used to decorate the \u001b[39m\u001b[33m'\u001b[39m\n\u001b[32m    206\u001b[39m                     \u001b[33m'\u001b[39m\u001b[33mmethod of nn.Module\u001b[39m\u001b[33m'\u001b[39m)\n\u001b[32m    207\u001b[39m \u001b[38;5;28;01mif\u001b[39;00m \u001b[38;5;129;01mnot\u001b[39;00m (\u001b[38;5;28mhasattr\u001b[39m(args[\u001b[32m0\u001b[39m], \u001b[33m'\u001b[39m\u001b[33mfp16_enabled\u001b[39m\u001b[33m'\u001b[39m) \u001b[38;5;129;01mand\u001b[39;00m args[\u001b[32m0\u001b[39m].fp16_enabled):\n\u001b[32m--> \u001b[39m\u001b[32m208\u001b[39m     \u001b[38;5;28;01mreturn\u001b[39;00m \u001b[43mold_func\u001b[49m\u001b[43m(\u001b[49m\u001b[43m*\u001b[49m\u001b[43margs\u001b[49m\u001b[43m,\u001b[49m\u001b[43m \u001b[49m\u001b[43m*\u001b[49m\u001b[43m*\u001b[49m\u001b[43mkwargs\u001b[49m\u001b[43m)\u001b[49m\n\u001b[32m    209\u001b[39m \u001b[38;5;66;03m# get the arg spec of the decorated method\u001b[39;00m\n\u001b[32m    210\u001b[39m args_info = getfullargspec(old_func)\n",
      "\u001b[36mFile \u001b[39m\u001b[32m~/miniconda3/envs/openmmlab-clean/lib/python3.11/site-packages/mmrotate/models/roi_heads/bbox_heads/rotated_bbox_head.py:418\u001b[39m, in \u001b[36mRotatedBBoxHead.get_bboxes\u001b[39m\u001b[34m(self, rois, cls_score, bbox_pred, img_shape, scale_factor, rescale, cfg)\u001b[39m\n\u001b[32m    416\u001b[39m     \u001b[38;5;28;01mreturn\u001b[39;00m bboxes, scores\n\u001b[32m    417\u001b[39m \u001b[38;5;28;01melse\u001b[39;00m:\n\u001b[32m--> \u001b[39m\u001b[32m418\u001b[39m     det_bboxes, det_labels = \u001b[43mmulticlass_nms_rotated\u001b[49m\u001b[43m(\u001b[49m\n\u001b[32m    419\u001b[39m \u001b[43m        \u001b[49m\u001b[43mbboxes\u001b[49m\u001b[43m,\u001b[49m\u001b[43m \u001b[49m\u001b[43mscores\u001b[49m\u001b[43m,\u001b[49m\u001b[43m \u001b[49m\u001b[43mcfg\u001b[49m\u001b[43m.\u001b[49m\u001b[43mscore_thr\u001b[49m\u001b[43m,\u001b[49m\u001b[43m \u001b[49m\u001b[43mcfg\u001b[49m\u001b[43m.\u001b[49m\u001b[43mnms\u001b[49m\u001b[43m,\u001b[49m\u001b[43m \u001b[49m\u001b[43mcfg\u001b[49m\u001b[43m.\u001b[49m\u001b[43mmax_per_img\u001b[49m\u001b[43m)\u001b[49m\n\u001b[32m    420\u001b[39m     \u001b[38;5;28;01mreturn\u001b[39;00m det_bboxes, det_labels\n",
      "\u001b[36mFile \u001b[39m\u001b[32m~/miniconda3/envs/openmmlab-clean/lib/python3.11/site-packages/mmrotate/core/post_processing/bbox_nms_rotated.py:58\u001b[39m, in \u001b[36mmulticlass_nms_rotated\u001b[39m\u001b[34m(multi_bboxes, multi_scores, score_thr, nms, max_num, score_factors, return_inds)\u001b[39m\n\u001b[32m     55\u001b[39m     scores = scores * score_factors\n\u001b[32m     57\u001b[39m inds = valid_mask.nonzero(as_tuple=\u001b[38;5;28;01mFalse\u001b[39;00m).squeeze(\u001b[32m1\u001b[39m)\n\u001b[32m---> \u001b[39m\u001b[32m58\u001b[39m bboxes, scores, labels = bboxes[inds], scores[inds], \u001b[43mlabels\u001b[49m\u001b[43m[\u001b[49m\u001b[43minds\u001b[49m\u001b[43m]\u001b[49m\n\u001b[32m     60\u001b[39m \u001b[38;5;28;01mif\u001b[39;00m bboxes.numel() == \u001b[32m0\u001b[39m:\n\u001b[32m     61\u001b[39m     dets = torch.cat([bboxes, scores[:, \u001b[38;5;28;01mNone\u001b[39;00m]], -\u001b[32m1\u001b[39m)\n",
      "\u001b[31mRuntimeError\u001b[39m: indices should be either on cpu or on the same device as the indexed tensor (cpu)"
     ]
    }
   ],
   "source": [
    "result = inference_detector_by_patches( model,\n",
    "                                        img,\n",
    "                                        args.patch_sizes,\n",
    "                                        args.patch_steps,\n",
    "                                        args.img_ratios,\n",
    "                                        args.merge_iou_thr,\n",
    "                                        args.batch_size )"
   ]
  },
  {
   "cell_type": "code",
   "execution_count": null,
   "id": "510dee3f",
   "metadata": {},
   "outputs": [
    {
     "name": "stdout",
     "output_type": "stream",
     "text": [
      "Detected 3472 vehicles.\n"
     ]
    }
   ],
   "source": [
    "process_results( args.img, result, out_file=args.out_file, score_thr=args.score_thr )"
   ]
  }
 ],
 "metadata": {
  "kernelspec": {
   "display_name": "openmmlab-clean",
   "language": "python",
   "name": "python3"
  },
  "language_info": {
   "codemirror_mode": {
    "name": "ipython",
    "version": 3
   },
   "file_extension": ".py",
   "mimetype": "text/x-python",
   "name": "python",
   "nbconvert_exporter": "python",
   "pygments_lexer": "ipython3",
   "version": "3.11.13"
  }
 },
 "nbformat": 4,
 "nbformat_minor": 5
}
