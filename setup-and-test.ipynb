{
 "cells": [
  {
   "cell_type": "code",
   "execution_count": null,
   "id": "0afbcb8b",
   "metadata": {},
   "outputs": [],
   "source": [
    "!pip install -q torch==2.0.1 torchvision==0.15.2 torchaudio==2.0.2 \"numpy<2\" --index-url https://download.pytorch.org/whl/cu118"
   ]
  },
  {
   "cell_type": "code",
   "execution_count": null,
   "id": "5bdba900",
   "metadata": {},
   "outputs": [],
   "source": [
    "!pip install -q -U openmim \"numpy<2\""
   ]
  },
  {
   "cell_type": "code",
   "execution_count": null,
   "id": "857c20e8",
   "metadata": {},
   "outputs": [],
   "source": [
    "# Install MMCV compiled for PyTorch 2.0.1 (not 2.1.0)\n",
    "!pip install -q mmcv-full==1.7.2 -f https://download.openmmlab.com/mmcv/dist/cu118/torch2.0.0/index.html \"numpy<2\""
   ]
  },
  {
   "cell_type": "code",
   "execution_count": null,
   "id": "b4458b15",
   "metadata": {},
   "outputs": [],
   "source": [
    "!mim install -q mmdet\\<3.0.0"
   ]
  },
  {
   "cell_type": "code",
   "execution_count": null,
   "id": "c189d253",
   "metadata": {},
   "outputs": [],
   "source": [
    "!pip uninstall -q mmrotate --yes\n",
    "!rm -rf mmrotate\n",
    "!git clone -q https://github.com/open-mmlab/mmrotate.git"
   ]
  },
  {
   "cell_type": "code",
   "execution_count": null,
   "id": "2045a331",
   "metadata": {},
   "outputs": [],
   "source": [
    "!cd mmrotate && pip install -q -e ."
   ]
  },
  {
   "cell_type": "code",
   "execution_count": null,
   "id": "0161c7de",
   "metadata": {},
   "outputs": [],
   "source": [
    "!mkdir model\n",
    "!wget -q -O ./model/redet_re50_fpn_1x_dota_ms_rr_le90-fc9217b5.pth https://download.openmmlab.com/mmrotate/v0.1.0/redet/redet_re50_fpn_1x_dota_ms_rr_le90/redet_re50_fpn_1x_dota_ms_rr_le90-fc9217b5.pth"
   ]
  },
  {
   "cell_type": "markdown",
   "id": "55d680d8",
   "metadata": {},
   "source": [
    "# When you reach this cell you MUST restart the session\n",
    "# Do not re-run the cells before this one!"
   ]
  },
  {
   "cell_type": "code",
   "execution_count": null,
   "id": "9ccfa6d7",
   "metadata": {},
   "outputs": [],
   "source": [
    "import numpy as np\n",
    "import torch\n",
    "import mmcv\n",
    "import cv2\n",
    "from mmdet.apis    import init_detector\n",
    "from mmrotate.apis import inference_detector_by_patches"
   ]
  },
  {
   "cell_type": "code",
   "execution_count": null,
   "id": "b4852718",
   "metadata": {},
   "outputs": [],
   "source": [
    "class Args:\n",
    "    def __init__( self, batch_size: int, patch_size: int, patch_step: int ):\n",
    "        self.img = \"./input/1.png\"\n",
    "        self.config = \"mmrotate/configs/redet/redet_re50_refpn_1x_dota_ms_rr_le90.py\"\n",
    "        self.checkpoint = \"model/redet_re50_fpn_1x_dota_ms_rr_le90-fc9217b5.pth\"\n",
    "        self.score_thr = 0.0025\n",
    "        self.merge_iou_thr = 0.85\n",
    "        self.img_ratios = [1.0]\n",
    "        self.out_file = \"PA-SM-2020-6-12-SM\"\n",
    "        self.batch_size = batch_size\n",
    "        self.patch_sizes = [patch_size]\n",
    "        self.patch_steps = [patch_step]\n",
    "        self.device = 'cuda:0'\n",
    "        self.palette = 'dota'\n",
    "\n",
    "torch.cuda.set_per_process_memory_fraction( 0.85 )\n",
    "\n",
    "### setup args here ###\n",
    "args = Args( batch_size=24, patch_size=1024, patch_step=768 )\n",
    "model = init_detector( args.config, args.checkpoint, device=args.device )"
   ]
  },
  {
   "cell_type": "code",
   "execution_count": null,
   "id": "556a0790",
   "metadata": {},
   "outputs": [],
   "source": [
    "import torch\n",
    "\n",
    "def debug_model_devices(model):\n",
    "    \"\"\"Debug function to show device placement\"\"\"\n",
    "    print(\"=== Model Device Debug ===\")\n",
    "\n",
    "    device_summary = {}\n",
    "\n",
    "    for name, param in model.named_parameters():\n",
    "        device = str(param.device)\n",
    "        if device not in device_summary:\n",
    "            device_summary[device] = []\n",
    "        device_summary[device].append(name)\n",
    "\n",
    "    for device, params in device_summary.items():\n",
    "        print(f\"Device {device}: {len(params)} parameters\")\n",
    "        if len(params) < 10:  # Show first few if not too many\n",
    "            for param in params[:5]:\n",
    "                print(f\"  - {param}\")\n",
    "\n",
    "    return device_summary\n",
    "\n",
    "# Use after model initialization\n",
    "devices = debug_model_devices(model)"
   ]
  },
  {
   "cell_type": "code",
   "execution_count": null,
   "id": "6d8fc65e",
   "metadata": {},
   "outputs": [],
   "source": [
    "img = mmcv.imread( args.img )"
   ]
  },
  {
   "cell_type": "code",
   "execution_count": null,
   "id": "e74377e1",
   "metadata": {},
   "outputs": [],
   "source": [
    "result = inference_detector_by_patches( model,\n",
    "                                        img,\n",
    "                                        args.patch_sizes,\n",
    "                                        args.patch_steps,\n",
    "                                        args.img_ratios,\n",
    "                                        args.merge_iou_thr,\n",
    "                                        args.batch_size )"
   ]
  },
  {
   "cell_type": "code",
   "execution_count": null,
   "id": "8689d97e",
   "metadata": {},
   "outputs": [],
   "source": [
    "model.show_result( args.img, result, out_file=args.out_file, score_thr=args.score_thr )"
   ]
  }
 ],
 "metadata": {
  "language_info": {
   "name": "python"
  }
 },
 "nbformat": 4,
 "nbformat_minor": 5
}
